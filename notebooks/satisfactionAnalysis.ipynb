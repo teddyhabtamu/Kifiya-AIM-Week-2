{
 "cells": [
  {
   "cell_type": "code",
   "execution_count": 3,
   "metadata": {},
   "outputs": [],
   "source": [
    "import os\n",
    "os.chdir('../scripts')"
   ]
  },
  {
   "cell_type": "code",
   "execution_count": 15,
   "metadata": {},
   "outputs": [],
   "source": [
    "import data_preparation as dp\n",
    "import satisfactionAnalysis as sa\n",
    "import experienceAnalysis as ea\n",
    "import user_engagment as ue\n",
    "from dotenv import load_dotenv\n",
    "from importlib import reload\n"
   ]
  },
  {
   "cell_type": "code",
   "execution_count": 9,
   "metadata": {},
   "outputs": [],
   "source": [
    "load_dotenv()\n",
    "\n",
    "db_user = os.getenv('DB_USER')\n",
    "db_password = os.getenv('DB_PASSWORD')\n",
    "db_host = os.getenv('DB_HOST')\n",
    "db_port = os.getenv('DB_PORT')\n",
    "db_name = os.getenv('DB_NAME')\n",
    "\n",
    "db_url = f'postgresql://{db_user}:{db_password}@{db_host}:{db_port}/{db_name}'\n",
    "query = 'SELECT * FROM xdr_data'"
   ]
  },
  {
   "cell_type": "code",
   "execution_count": 11,
   "metadata": {},
   "outputs": [],
   "source": [
    "reload(dp)\n",
    "data = dp.load_data(db_url, query)\n",
    "cleaned_data = dp.clean_data(data)"
   ]
  },
  {
   "cell_type": "code",
   "execution_count": 16,
   "metadata": {},
   "outputs": [],
   "source": [
    "reload(ea)\n",
    "reload(ue)\n",
    "\n",
    "data_engagement = ue.aggregate_engagement_metrics(cleaned_data)\n",
    "data_experience = ea.aggregate_user_experience(cleaned_data)"
   ]
  },
  {
   "cell_type": "code",
   "execution_count": 17,
   "metadata": {},
   "outputs": [
    {
     "data": {
      "text/html": [
       "<div>\n",
       "<style scoped>\n",
       "    .dataframe tbody tr th:only-of-type {\n",
       "        vertical-align: middle;\n",
       "    }\n",
       "\n",
       "    .dataframe tbody tr th {\n",
       "        vertical-align: top;\n",
       "    }\n",
       "\n",
       "    .dataframe thead th {\n",
       "        text-align: right;\n",
       "    }\n",
       "</style>\n",
       "<table border=\"1\" class=\"dataframe\">\n",
       "  <thead>\n",
       "    <tr style=\"text-align: right;\">\n",
       "      <th></th>\n",
       "      <th>MSISDN/Number</th>\n",
       "      <th>Average TCP Retransmission</th>\n",
       "      <th>Average RTT</th>\n",
       "      <th>Handset Type</th>\n",
       "      <th>Average Throughput</th>\n",
       "      <th>experience_cluster</th>\n",
       "      <th>experience_score</th>\n",
       "    </tr>\n",
       "  </thead>\n",
       "  <tbody>\n",
       "    <tr>\n",
       "      <th>0</th>\n",
       "      <td>3.360300e+10</td>\n",
       "      <td>1.129040e+06</td>\n",
       "      <td>30.152653</td>\n",
       "      <td>Samsung Galaxy A5 Sm-A520F</td>\n",
       "      <td>4694.128998</td>\n",
       "      <td>0</td>\n",
       "      <td>3.567377</td>\n",
       "    </tr>\n",
       "    <tr>\n",
       "      <th>1</th>\n",
       "      <td>3.360301e+10</td>\n",
       "      <td>6.806669e+05</td>\n",
       "      <td>24.440917</td>\n",
       "      <td>Samsung Galaxy Note 8 (Sm-N950F)</td>\n",
       "      <td>2217.750000</td>\n",
       "      <td>0</td>\n",
       "      <td>4.214480</td>\n",
       "    </tr>\n",
       "    <tr>\n",
       "      <th>2</th>\n",
       "      <td>3.360301e+10</td>\n",
       "      <td>1.267104e+06</td>\n",
       "      <td>33.381834</td>\n",
       "      <td>Samsung Galaxy S7 (Sm-G930X)</td>\n",
       "      <td>7.500000</td>\n",
       "      <td>0</td>\n",
       "      <td>3.691911</td>\n",
       "    </tr>\n",
       "    <tr>\n",
       "      <th>3</th>\n",
       "      <td>3.360301e+10</td>\n",
       "      <td>1.267104e+06</td>\n",
       "      <td>11.000000</td>\n",
       "      <td>Apple iPhone X (A1901)</td>\n",
       "      <td>57.500000</td>\n",
       "      <td>0</td>\n",
       "      <td>4.333990</td>\n",
       "    </tr>\n",
       "    <tr>\n",
       "      <th>4</th>\n",
       "      <td>3.360301e+10</td>\n",
       "      <td>1.267104e+06</td>\n",
       "      <td>13.500000</td>\n",
       "      <td>Apple iPhone 7 (A1778)</td>\n",
       "      <td>33.500000</td>\n",
       "      <td>0</td>\n",
       "      <td>4.247378</td>\n",
       "    </tr>\n",
       "  </tbody>\n",
       "</table>\n",
       "</div>"
      ],
      "text/plain": [
       "   MSISDN/Number  Average TCP Retransmission  Average RTT  \\\n",
       "0   3.360300e+10                1.129040e+06    30.152653   \n",
       "1   3.360301e+10                6.806669e+05    24.440917   \n",
       "2   3.360301e+10                1.267104e+06    33.381834   \n",
       "3   3.360301e+10                1.267104e+06    11.000000   \n",
       "4   3.360301e+10                1.267104e+06    13.500000   \n",
       "\n",
       "                       Handset Type  Average Throughput  experience_cluster  \\\n",
       "0        Samsung Galaxy A5 Sm-A520F         4694.128998                   0   \n",
       "1  Samsung Galaxy Note 8 (Sm-N950F)         2217.750000                   0   \n",
       "2      Samsung Galaxy S7 (Sm-G930X)            7.500000                   0   \n",
       "3            Apple iPhone X (A1901)           57.500000                   0   \n",
       "4            Apple iPhone 7 (A1778)           33.500000                   0   \n",
       "\n",
       "   experience_score  \n",
       "0          3.567377  \n",
       "1          4.214480  \n",
       "2          3.691911  \n",
       "3          4.333990  \n",
       "4          4.247378  "
      ]
     },
     "execution_count": 17,
     "metadata": {},
     "output_type": "execute_result"
    }
   ],
   "source": [
    "reload(sa)\n",
    "\n",
    "engagement_columns = ['session_frequency', 'session_duration', 'total_traffic']\n",
    "experience_columns = ['Average TCP Retransmission', 'Average RTT', 'Average Throughput']\n",
    "\n",
    "data_engagement = sa.assign_engagement_score(data_engagement, engagement_columns)\n",
    "data_experience = sa.assign_experience_score(data_experience, experience_columns)\n",
    "\n",
    "data_engagement.head()\n",
    "data_experience.head()"
   ]
  },
  {
   "cell_type": "code",
   "execution_count": 18,
   "metadata": {},
   "outputs": [
    {
     "data": {
      "text/html": [
       "<div>\n",
       "<style scoped>\n",
       "    .dataframe tbody tr th:only-of-type {\n",
       "        vertical-align: middle;\n",
       "    }\n",
       "\n",
       "    .dataframe tbody tr th {\n",
       "        vertical-align: top;\n",
       "    }\n",
       "\n",
       "    .dataframe thead th {\n",
       "        text-align: right;\n",
       "    }\n",
       "</style>\n",
       "<table border=\"1\" class=\"dataframe\">\n",
       "  <thead>\n",
       "    <tr style=\"text-align: right;\">\n",
       "      <th></th>\n",
       "      <th>MSISDN/Number</th>\n",
       "      <th>engagement_score</th>\n",
       "      <th>experience_score</th>\n",
       "      <th>satisfaction_score</th>\n",
       "    </tr>\n",
       "  </thead>\n",
       "  <tbody>\n",
       "    <tr>\n",
       "      <th>0</th>\n",
       "      <td>3.360300e+10</td>\n",
       "      <td>17.719698</td>\n",
       "      <td>3.567377</td>\n",
       "      <td>10.643537</td>\n",
       "    </tr>\n",
       "    <tr>\n",
       "      <th>1</th>\n",
       "      <td>3.360301e+10</td>\n",
       "      <td>0.008233</td>\n",
       "      <td>4.214480</td>\n",
       "      <td>2.111357</td>\n",
       "    </tr>\n",
       "    <tr>\n",
       "      <th>2</th>\n",
       "      <td>3.360301e+10</td>\n",
       "      <td>0.006761</td>\n",
       "      <td>3.691911</td>\n",
       "      <td>1.849336</td>\n",
       "    </tr>\n",
       "    <tr>\n",
       "      <th>3</th>\n",
       "      <td>3.360301e+10</td>\n",
       "      <td>0.016024</td>\n",
       "      <td>4.333990</td>\n",
       "      <td>2.175007</td>\n",
       "    </tr>\n",
       "    <tr>\n",
       "      <th>4</th>\n",
       "      <td>3.360301e+10</td>\n",
       "      <td>0.008092</td>\n",
       "      <td>4.247378</td>\n",
       "      <td>2.127735</td>\n",
       "    </tr>\n",
       "  </tbody>\n",
       "</table>\n",
       "</div>"
      ],
      "text/plain": [
       "   MSISDN/Number  engagement_score  experience_score  satisfaction_score\n",
       "0   3.360300e+10         17.719698          3.567377           10.643537\n",
       "1   3.360301e+10          0.008233          4.214480            2.111357\n",
       "2   3.360301e+10          0.006761          3.691911            1.849336\n",
       "3   3.360301e+10          0.016024          4.333990            2.175007\n",
       "4   3.360301e+10          0.008092          4.247378            2.127735"
      ]
     },
     "execution_count": 18,
     "metadata": {},
     "output_type": "execute_result"
    }
   ],
   "source": [
    "data_satisfaction = sa.calculate_satisfaction_score(data_engagement, data_experience)\n",
    "data_satisfaction.head()"
   ]
  },
  {
   "cell_type": "code",
   "execution_count": 20,
   "metadata": {},
   "outputs": [
    {
     "name": "stdout",
     "output_type": "stream",
     "text": [
      "Mean Squared Error: 6.902422996361739e-32\n"
     ]
    }
   ],
   "source": [
    "reload(sa)\n",
    "\n",
    "model = sa.build_regression_model(data_satisfaction)"
   ]
  },
  {
   "cell_type": "code",
   "execution_count": 25,
   "metadata": {},
   "outputs": [
    {
     "data": {
      "text/html": [
       "<div>\n",
       "<style scoped>\n",
       "    .dataframe tbody tr th:only-of-type {\n",
       "        vertical-align: middle;\n",
       "    }\n",
       "\n",
       "    .dataframe tbody tr th {\n",
       "        vertical-align: top;\n",
       "    }\n",
       "\n",
       "    .dataframe thead th {\n",
       "        text-align: right;\n",
       "    }\n",
       "</style>\n",
       "<table border=\"1\" class=\"dataframe\">\n",
       "  <thead>\n",
       "    <tr style=\"text-align: right;\">\n",
       "      <th></th>\n",
       "      <th>MSISDN/Number</th>\n",
       "      <th>engagement_score</th>\n",
       "      <th>experience_score</th>\n",
       "      <th>satisfaction_score</th>\n",
       "      <th>cluster</th>\n",
       "    </tr>\n",
       "  </thead>\n",
       "  <tbody>\n",
       "    <tr>\n",
       "      <th>0</th>\n",
       "      <td>3.360300e+10</td>\n",
       "      <td>17.719698</td>\n",
       "      <td>3.567377</td>\n",
       "      <td>10.643537</td>\n",
       "      <td>0</td>\n",
       "    </tr>\n",
       "    <tr>\n",
       "      <th>1</th>\n",
       "      <td>3.360301e+10</td>\n",
       "      <td>0.008233</td>\n",
       "      <td>4.214480</td>\n",
       "      <td>2.111357</td>\n",
       "      <td>0</td>\n",
       "    </tr>\n",
       "    <tr>\n",
       "      <th>2</th>\n",
       "      <td>3.360301e+10</td>\n",
       "      <td>0.006761</td>\n",
       "      <td>3.691911</td>\n",
       "      <td>1.849336</td>\n",
       "      <td>0</td>\n",
       "    </tr>\n",
       "    <tr>\n",
       "      <th>3</th>\n",
       "      <td>3.360301e+10</td>\n",
       "      <td>0.016024</td>\n",
       "      <td>4.333990</td>\n",
       "      <td>2.175007</td>\n",
       "      <td>0</td>\n",
       "    </tr>\n",
       "    <tr>\n",
       "      <th>4</th>\n",
       "      <td>3.360301e+10</td>\n",
       "      <td>0.008092</td>\n",
       "      <td>4.247378</td>\n",
       "      <td>2.127735</td>\n",
       "      <td>0</td>\n",
       "    </tr>\n",
       "  </tbody>\n",
       "</table>\n",
       "</div>"
      ],
      "text/plain": [
       "   MSISDN/Number  engagement_score  experience_score  satisfaction_score  \\\n",
       "0   3.360300e+10         17.719698          3.567377           10.643537   \n",
       "1   3.360301e+10          0.008233          4.214480            2.111357   \n",
       "2   3.360301e+10          0.006761          3.691911            1.849336   \n",
       "3   3.360301e+10          0.016024          4.333990            2.175007   \n",
       "4   3.360301e+10          0.008092          4.247378            2.127735   \n",
       "\n",
       "   cluster  \n",
       "0        0  \n",
       "1        0  \n",
       "2        0  \n",
       "3        0  \n",
       "4        0  "
      ]
     },
     "execution_count": 25,
     "metadata": {},
     "output_type": "execute_result"
    }
   ],
   "source": [
    "reload(sa)\n",
    "\n",
    "data_clustered = sa.run_kmeans_clustering(data_satisfaction, n_clusters=2)\n",
    "data_clustered.head()"
   ]
  },
  {
   "cell_type": "code",
   "execution_count": 28,
   "metadata": {},
   "outputs": [
    {
     "name": "stdout",
     "output_type": "stream",
     "text": [
      "Average Scores per Cluster: \n",
      "    cluster  engagement_score  experience_score  satisfaction_score\n",
      "0        0          0.017250          3.736871            1.877060\n",
      "1        1        517.969405          3.222594          260.595999\n"
     ]
    }
   ],
   "source": [
    "reload(sa)\n",
    "\n",
    "cluster_aggregation = sa.aggregate_scores_per_cluster(data_clustered)\n",
    "print(\"Average Scores per Cluster: \\n\", cluster_aggregation)"
   ]
  },
  {
   "cell_type": "code",
   "execution_count": 29,
   "metadata": {},
   "outputs": [
    {
     "name": "stdout",
     "output_type": "stream",
     "text": [
      "Data exported to MySQL database\n"
     ]
    }
   ],
   "source": [
    "table_name = 'user_satisfaction'\n",
    "\n",
    "sa.export_to_mysql(data_clustered, db_url, table_name)\n",
    "\n",
    "print(\"Data exported to MySQL database\")"
   ]
  },
  {
   "cell_type": "code",
   "execution_count": null,
   "metadata": {},
   "outputs": [],
   "source": []
  }
 ],
 "metadata": {
  "kernelspec": {
   "display_name": ".venv",
   "language": "python",
   "name": "python3"
  },
  "language_info": {
   "codemirror_mode": {
    "name": "ipython",
    "version": 3
   },
   "file_extension": ".py",
   "mimetype": "text/x-python",
   "name": "python",
   "nbconvert_exporter": "python",
   "pygments_lexer": "ipython3",
   "version": "3.10.12"
  }
 },
 "nbformat": 4,
 "nbformat_minor": 2
}
